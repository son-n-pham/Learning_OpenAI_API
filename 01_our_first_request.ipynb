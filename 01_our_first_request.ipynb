{
 "cells": [
  {
   "cell_type": "code",
   "execution_count": 2,
   "metadata": {},
   "outputs": [],
   "source": [
    "# pip install openai\n",
    "import openai"
   ]
  },
  {
   "cell_type": "code",
   "execution_count": 15,
   "metadata": {},
   "outputs": [],
   "source": [
    "# We use python-dotenv to manange our environment variables\n",
    "# !pip install python-dotenv\n",
    "from dotenv import dotenv_values"
   ]
  },
  {
   "cell_type": "code",
   "execution_count": 17,
   "metadata": {},
   "outputs": [],
   "source": [
    "config = dotenv_values('.env')\n",
    "OPENAI_API_KEY = config['OPENAI_API_KEY']"
   ]
  },
  {
   "cell_type": "code",
   "execution_count": 18,
   "metadata": {},
   "outputs": [],
   "source": [
    "openai.api_key = OPENAI_API_KEY"
   ]
  },
  {
   "cell_type": "markdown",
   "metadata": {},
   "source": [
    "## Stop parameter"
   ]
  },
  {
   "cell_type": "code",
   "execution_count": 28,
   "metadata": {},
   "outputs": [
    {
     "name": "stdout",
     "output_type": "stream",
     "text": [
      "{\n",
      "  \"id\": \"cmpl-7SPfcBqjoAV10KlKkasJNWmdVgArp\",\n",
      "  \"object\": \"text_completion\",\n",
      "  \"created\": 1687006216,\n",
      "  \"model\": \"text-davinci-003\",\n",
      "  \"choices\": [\n",
      "    {\n",
      "      \"text\": \"\\n\\n1. Avatar (2009)\\n2. Titanic (1997)\\n3. Star Wars: Episode VII - The Force Awakens (2015)\\n4. Avengers: Endgame (2019)\\n\",\n",
      "      \"index\": 0,\n",
      "      \"logprobs\": null,\n",
      "      \"finish_reason\": \"stop\"\n",
      "    }\n",
      "  ],\n",
      "  \"usage\": {\n",
      "    \"prompt_tokens\": 11,\n",
      "    \"completion_tokens\": 41,\n",
      "    \"total_tokens\": 52\n",
      "  }\n",
      "}\n",
      "The top 10 most popular movies at all time:  \n",
      "\n",
      "1. Avatar (2009)\n",
      "2. Titanic (1997)\n",
      "3. Star Wars: Episode VII - The Force Awakens (2015)\n",
      "4. Avengers: Endgame (2019)\n",
      "\n"
     ]
    }
   ],
   "source": [
    "prompt_template = 'The top 10 most popular movies at all time: '\n",
    "response = openai.Completion.create(\n",
    "    model='text-davinci-003',\n",
    "    prompt=prompt_template,\n",
    "    max_tokens=100,\n",
    "    stop='5.'\n",
    ")\n",
    "\n",
    "print(response)\n",
    "\n",
    "complete_answer = f\"{prompt_template} {response['choices'][0]['text']}\"\n",
    "print(complete_answer)"
   ]
  },
  {
   "cell_type": "code",
   "execution_count": 34,
   "metadata": {},
   "outputs": [
    {
     "name": "stdout",
     "output_type": "stream",
     "text": [
      "{\n",
      "  \"id\": \"cmpl-7SPpJZqeKrmj7ZTmOXCw1EDfoj7fI\",\n",
      "  \"object\": \"text_completion\",\n",
      "  \"created\": 1687006817,\n",
      "  \"model\": \"text-davinci-003\",\n",
      "  \"choices\": [\n",
      "    {\n",
      "      \"text\": \"What kind of games do you like to play?\\n\",\n",
      "      \"index\": 0,\n",
      "      \"logprobs\": null,\n",
      "      \"finish_reason\": \"stop\"\n",
      "    }\n",
      "  ],\n",
      "  \"usage\": {\n",
      "    \"prompt_tokens\": 62,\n",
      "    \"completion_tokens\": 11,\n",
      "    \"total_tokens\": 73\n",
      "  }\n",
      "}\n"
     ]
    }
   ],
   "source": [
    "# Example of using list of string for stop parameters\n",
    "\n",
    "prompt = '''\n",
    "You are a toddler. I want to ask you some questions\n",
    "\n",
    "User: Hi, how are you today?\n",
    "Chatbot: I'm well.\n",
    "\n",
    "User: What do you want to do?\n",
    "Chatbot: I want to stay home and do nothing.\n",
    "\n",
    "User: \n",
    "'''\n",
    "\n",
    "response = openai.Completion.create(\n",
    "    model=\"text-davinci-003\",\n",
    "    prompt=prompt,\n",
    "    max_tokens=150,\n",
    "    stop=[\"User\", \"Chatbot\"]\n",
    ")\n",
    "\n",
    "print(response)"
   ]
  },
  {
   "cell_type": "markdown",
   "metadata": {},
   "source": [
    "## Echo and N"
   ]
  },
  {
   "cell_type": "code",
   "execution_count": 40,
   "metadata": {},
   "outputs": [
    {
     "data": {
      "text/plain": [
       "<OpenAIObject text_completion id=cmpl-7SQ9X1Q7WUPSLduXFYByODnpl1sEE at 0x253ca0b3770> JSON: {\n",
       "  \"id\": \"cmpl-7SQ9X1Q7WUPSLduXFYByODnpl1sEE\",\n",
       "  \"object\": \"text_completion\",\n",
       "  \"created\": 1687008071,\n",
       "  \"model\": \"text-davinci-002\",\n",
       "  \"choices\": [\n",
       "    {\n",
       "      \"text\": \"What would Lord Jesus tell me today? \\n\\nBe careful of false prophets, who come to you in sheep's clothing but inwardly are ravenous wolves.\",\n",
       "      \"index\": 0,\n",
       "      \"logprobs\": null,\n",
       "      \"finish_reason\": \"stop\"\n",
       "    },\n",
       "    {\n",
       "      \"text\": \"What would Lord Jesus tell me today? \\n\\nBe not afraid.\",\n",
       "      \"index\": 1,\n",
       "      \"logprobs\": null,\n",
       "      \"finish_reason\": \"stop\"\n",
       "    },\n",
       "    {\n",
       "      \"text\": \"What would Lord Jesus tell me today? \\n\\nThat I am loved and forgiven.\",\n",
       "      \"index\": 2,\n",
       "      \"logprobs\": null,\n",
       "      \"finish_reason\": \"stop\"\n",
       "    }\n",
       "  ],\n",
       "  \"usage\": {\n",
       "    \"prompt_tokens\": 9,\n",
       "    \"completion_tokens\": 39,\n",
       "    \"total_tokens\": 48\n",
       "  }\n",
       "}"
      ]
     },
     "execution_count": 40,
     "metadata": {},
     "output_type": "execute_result"
    }
   ],
   "source": [
    "openai.Completion.create(\n",
    "    model=\"text-davinci-002\",\n",
    "    prompt=\"What would Lord Jesus tell me today? \",\n",
    "    max_tokens=64,\n",
    "    n=3,\n",
    "    echo=True # Adding echo does not increase the cost\n",
    ")"
   ]
  },
  {
   "cell_type": "code",
   "execution_count": null,
   "metadata": {},
   "outputs": [],
   "source": []
  }
 ],
 "metadata": {
  "kernelspec": {
   "display_name": "Python 3",
   "language": "python",
   "name": "python3"
  },
  "language_info": {
   "codemirror_mode": {
    "name": "ipython",
    "version": 3
   },
   "file_extension": ".py",
   "mimetype": "text/x-python",
   "name": "python",
   "nbconvert_exporter": "python",
   "pygments_lexer": "ipython3",
   "version": "3.11.0"
  },
  "orig_nbformat": 4
 },
 "nbformat": 4,
 "nbformat_minor": 2
}
