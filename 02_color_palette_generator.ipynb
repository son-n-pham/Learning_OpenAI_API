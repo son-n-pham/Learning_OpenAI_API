{
 "cells": [
  {
   "cell_type": "code",
   "execution_count": 1,
   "metadata": {},
   "outputs": [],
   "source": [
    "import openai\n",
    "import json"
   ]
  },
  {
   "cell_type": "code",
   "execution_count": 2,
   "metadata": {},
   "outputs": [],
   "source": [
    "from dotenv import dotenv_values\n",
    "config = dotenv_values(\".env\")"
   ]
  },
  {
   "cell_type": "code",
   "execution_count": 3,
   "metadata": {},
   "outputs": [],
   "source": [
    "openai_api_key = config.get(\"OPENAI_API_KEY\")"
   ]
  },
  {
   "cell_type": "code",
   "execution_count": 4,
   "metadata": {},
   "outputs": [],
   "source": [
    "openai.api_key = openai_api_key"
   ]
  },
  {
   "cell_type": "code",
   "execution_count": 5,
   "metadata": {},
   "outputs": [],
   "source": [
    "from IPython.display import Markdown, display\n",
    "\n",
    "def display_colors(colors):\n",
    "    display(Markdown(\" \".join(\n",
    "        f\"<span style='color:{color}'>{chr(9608)*4}</span>\" for color in colors)\n",
    "        ))"
   ]
  },
  {
   "cell_type": "code",
   "execution_count": 6,
   "metadata": {},
   "outputs": [],
   "source": [
    "import re\n",
    "\n",
    "def get_colors_from_string(string):\n",
    "    return re.findall(r'#[0-9a-fA-F]{6}', string)"
   ]
  },
  {
   "cell_type": "code",
   "execution_count": 63,
   "metadata": {},
   "outputs": [
    {
     "data": {
      "text/markdown": [
       "<span style='color:#FE4A49'>████</span> <span style='color:#FE9F80'>████</span> <span style='color:#D81159'>████</span> <span style='color:#7D1E7D'>████</span> <span style='color:#580DA6'>████</span> <span style='color:#5C4742'>████</span> <span style='color:#9295CA'>████</span>"
      ],
      "text/plain": [
       "<IPython.core.display.Markdown object>"
      ]
     },
     "metadata": {},
     "output_type": "display_data"
    }
   ],
   "source": [
    "def get_and_render_colors(msg):\n",
    "    prompt = f\"\"\"\n",
    "    ### Instructions ###\n",
    "    You are a color patte generating assistant that reponds to text prompts for color palettes.\n",
    "    You should generate color palettes that fit the theme, mood, or instrauctions in the prompt.\n",
    "    The palettes should be between 2 to 8 colors.\n",
    "\n",
    "    Input: {msg}\n",
    "\n",
    "    Desired format: a JSON array of hexagonal color codes such as [\"#FF0000\", \"#00FF00\", \"#0000FF\"]\n",
    "\n",
    "    Result:\n",
    "    \"\"\"\n",
    "\n",
    "    response = openai.Completion.create(\n",
    "        model=\"text-davinci-003\",\n",
    "        prompt=prompt,\n",
    "        max_tokens=60\n",
    "    )\n",
    "\n",
    "    colors = get_colors_from_string(response['choices'][0]['text'])\n",
    "\n",
    "    display_colors(colors)\n",
    "\n",
    "    return response, colors\n",
    "\n",
    "\n",
    "response, colors = get_and_render_colors(\"I feel crazy today. I want a color palette that reflects my mood.\")"
   ]
  },
  {
   "cell_type": "code",
   "execution_count": 64,
   "metadata": {},
   "outputs": [
    {
     "data": {
      "text/plain": [
       "<OpenAIObject text_completion id=cmpl-7SfXp6wtlKQKrYa3erYGujq1xhi1b at 0x2a245e1c230> JSON: {\n",
       "  \"id\": \"cmpl-7SfXp6wtlKQKrYa3erYGujq1xhi1b\",\n",
       "  \"object\": \"text_completion\",\n",
       "  \"created\": 1687067237,\n",
       "  \"model\": \"text-davinci-003\",\n",
       "  \"choices\": [\n",
       "    {\n",
       "      \"text\": \" [\\\"#FE4A49\\\", \\\"#FE9F80\\\", \\\"#D81159\\\", \\\"#7D1E7D\\\", \\\"#580DA6\\\", \\\"#5C4742\\\", \\\"#9295CA\\\"]\",\n",
       "      \"index\": 0,\n",
       "      \"logprobs\": null,\n",
       "      \"finish_reason\": \"stop\"\n",
       "    }\n",
       "  ],\n",
       "  \"usage\": {\n",
       "    \"prompt_tokens\": 118,\n",
       "    \"completion_tokens\": 43,\n",
       "    \"total_tokens\": 161\n",
       "  }\n",
       "}"
      ]
     },
     "execution_count": 64,
     "metadata": {},
     "output_type": "execute_result"
    }
   ],
   "source": [
    "response"
   ]
  },
  {
   "cell_type": "markdown",
   "metadata": {},
   "source": [
    "## Discussion:\n",
    "\n",
    "Response can be unexpected with the given hexagonal color codes but also some unexpected string with it. The best way is to use RE to filter down to the desired colors we want."
   ]
  },
  {
   "cell_type": "code",
   "execution_count": 39,
   "metadata": {},
   "outputs": [],
   "source": [
    "colors = json.loads(response['choices'][0]['text'])"
   ]
  },
  {
   "cell_type": "code",
   "execution_count": 41,
   "metadata": {},
   "outputs": [
    {
     "data": {
      "text/markdown": [
       "<span style='color:#D22A54'>████</span> <span style='color:#F1C38E'>████</span> <span style='color:#EEC68E'>████</span> <span style='color:#B6AD27'>████</span> <span style='color:#C8B6AA'>████</span>"
      ],
      "text/plain": [
       "<IPython.core.display.Markdown object>"
      ]
     },
     "metadata": {},
     "output_type": "display_data"
    }
   ],
   "source": [
    "\n",
    "display_colors(colors)"
   ]
  },
  {
   "cell_type": "markdown",
   "metadata": {},
   "source": [
    "## Rewrite with ChatCompletion"
   ]
  },
  {
   "cell_type": "code",
   "execution_count": 14,
   "metadata": {},
   "outputs": [
    {
     "data": {
      "text/markdown": [
       "<span style='color:#0072bb'>████</span> <span style='color:#a8cddd'>████</span> <span style='color:#d4e5e1'>████</span> <span style='color:#8cb8b3'>████</span>"
      ],
      "text/plain": [
       "<IPython.core.display.Markdown object>"
      ]
     },
     "metadata": {},
     "output_type": "display_data"
    }
   ],
   "source": [
    "def get_and_render_colors_ChatCompletion(msg):\n",
    "    system_prompt = f\"\"\"\n",
    "    ### Instructions ###\n",
    "    You are a color patte generating assistant that reponds to text prompts for color palettes.\n",
    "    You should generate color palettes that fit the theme, mood, or instrauctions in the prompt.\n",
    "    The palettes should be between 2 to 8 colors.\n",
    "\n",
    "    Desired format: a JSON array of hexagonal color codes such as [\"#FF0000\", \"#00FF00\", \"#0000FF\"]\n",
    "    \"\"\"\n",
    "\n",
    "    user_prompt = f\"\"\"\n",
    "    User's input: {msg}\n",
    "    \"\"\"\n",
    "\n",
    "    response = openai.ChatCompletion.create(\n",
    "        model=\"gpt-3.5-turbo\",\n",
    "        messages=[\n",
    "            {\"role\": \"system\", \"content\": system_prompt},\n",
    "            {\"role\": \"user\", \"content\": user_prompt}\n",
    "        ],\n",
    "        max_tokens=60\n",
    "    )\n",
    "\n",
    "    colors = get_colors_from_string(response['choices'][0]['message']['content'])\n",
    "\n",
    "    display_colors(colors)\n",
    "\n",
    "    return response, colors\n",
    "\n",
    "\n",
    "response, colors = get_and_render_colors_ChatCompletion(\"A wonderful day in Perth in winter\")"
   ]
  },
  {
   "cell_type": "code",
   "execution_count": 13,
   "metadata": {},
   "outputs": [
    {
     "name": "stdout",
     "output_type": "stream",
     "text": [
      "{\n",
      "  \"id\": \"chatcmpl-7T8YouXONwV9GVidI0n1Tfpwl5I9m\",\n",
      "  \"object\": \"chat.completion\",\n",
      "  \"created\": 1687178774,\n",
      "  \"model\": \"gpt-3.5-turbo-0301\",\n",
      "  \"usage\": {\n",
      "    \"prompt_tokens\": 128,\n",
      "    \"completion_tokens\": 60,\n",
      "    \"total_tokens\": 188\n",
      "  },\n",
      "  \"choices\": [\n",
      "    {\n",
      "      \"message\": {\n",
      "        \"role\": \"assistant\",\n",
      "        \"content\": \"Here is a color palette that reflects a crazy mood:\\n\\n[\\\"#FF4136\\\", \\\"#FFDC00\\\", \\\"#0074D9\\\", \\\"#B10DC9\\\"] \\n\\nThis palette has bold and lively colors that could represent the energy and excitement of feeling crazy. The bright red and yellow colors signify\"\n",
      "      },\n",
      "      \"finish_reason\": \"length\",\n",
      "      \"index\": 0\n",
      "    }\n",
      "  ]\n",
      "}\n"
     ]
    }
   ],
   "source": [
    "print(response)"
   ]
  },
  {
   "cell_type": "code",
   "execution_count": null,
   "metadata": {},
   "outputs": [],
   "source": []
  }
 ],
 "metadata": {
  "kernelspec": {
   "display_name": "Python 3",
   "language": "python",
   "name": "python3"
  },
  "language_info": {
   "codemirror_mode": {
    "name": "ipython",
    "version": 3
   },
   "file_extension": ".py",
   "mimetype": "text/x-python",
   "name": "python",
   "nbconvert_exporter": "python",
   "pygments_lexer": "ipython3",
   "version": "3.11.0"
  },
  "orig_nbformat": 4
 },
 "nbformat": 4,
 "nbformat_minor": 2
}
