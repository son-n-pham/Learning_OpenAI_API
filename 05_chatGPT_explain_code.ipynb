{
 "cells": [
  {
   "cell_type": "code",
   "execution_count": 3,
   "metadata": {},
   "outputs": [],
   "source": [
    "# !pip install openai\n",
    "\n",
    "import openai"
   ]
  },
  {
   "cell_type": "code",
   "execution_count": 5,
   "metadata": {},
   "outputs": [],
   "source": [
    "# !pip install python-dotenv\n",
    "from dotenv import dotenv_values"
   ]
  },
  {
   "cell_type": "code",
   "execution_count": 6,
   "metadata": {},
   "outputs": [],
   "source": [
    "config = dotenv_values(\".env\")"
   ]
  },
  {
   "cell_type": "code",
   "execution_count": 7,
   "metadata": {},
   "outputs": [],
   "source": [
    "openai.api_key = config[\"OPENAI_API_KEY\"]"
   ]
  },
  {
   "cell_type": "code",
   "execution_count": 11,
   "metadata": {},
   "outputs": [],
   "source": [
    "func = \"\"\"\n",
    "from IPython.display import Markdown, display\n",
    "\n",
    "def display_colors(colors):\n",
    "    display(Markdown(\" \".join(\n",
    "        f\"<span style='color:{color}'>{chr(9608)*4}</span>\" for color in colors)\n",
    "        ))\n",
    "\"\"\"\n",
    "\n",
    "messages = [\n",
    "    {\"role\": \"system\", \"content\": \"you are a Python explaining assistant\" },\n",
    "    {\"role\": \"user\", \"content\": f\"Explain the following code {func}\"}\n",
    "]"
   ]
  },
  {
   "cell_type": "code",
   "execution_count": 12,
   "metadata": {},
   "outputs": [
    {
     "name": "stdout",
     "output_type": "stream",
     "text": [
      "{\n",
      "  \"id\": \"chatcmpl-7Tu2b0Vh6EjtX9dzLAd2deC22UBBC\",\n",
      "  \"object\": \"chat.completion\",\n",
      "  \"created\": 1687361289,\n",
      "  \"model\": \"gpt-3.5-turbo-0301\",\n",
      "  \"choices\": [\n",
      "    {\n",
      "      \"index\": 0,\n",
      "      \"message\": {\n",
      "        \"role\": \"assistant\",\n",
      "        \"content\": \"This code imports the `Markdown` and `display` classes from the `IPython.display` module and defines a function called `display_colors`. The `display_colors` function takes one argument called `colors`, which should be a list of color values.\\n\\nWhen the `display_colors` function is called, it creates a Markdown object that contains a series of HTML tags that each define a block of four filled squares, each using one of the colors passed as a parameter to the function. The resulting HTML is then passed to the `display` function which renders it in the output cell. \\n\\nIn other words, this function will display a series of colored squares in a Jupyter notebook or IPython console.\"\n",
      "      },\n",
      "      \"finish_reason\": \"stop\"\n",
      "    }\n",
      "  ],\n",
      "  \"usage\": {\n",
      "    \"prompt_tokens\": 75,\n",
      "    \"completion_tokens\": 141,\n",
      "    \"total_tokens\": 216\n",
      "  }\n",
      "}\n"
     ]
    }
   ],
   "source": [
    "res = openai.ChatCompletion.create(\n",
    "    model=\"gpt-3.5-turbo\",\n",
    "    messages=messages\n",
    ")\n",
    "\n",
    "print(res)"
   ]
  },
  {
   "cell_type": "code",
   "execution_count": 13,
   "metadata": {},
   "outputs": [
    {
     "name": "stdout",
     "output_type": "stream",
     "text": [
      "This code imports the `Markdown` and `display` classes from the `IPython.display` module and defines a function called `display_colors`. The `display_colors` function takes one argument called `colors`, which should be a list of color values.\n",
      "\n",
      "When the `display_colors` function is called, it creates a Markdown object that contains a series of HTML tags that each define a block of four filled squares, each using one of the colors passed as a parameter to the function. The resulting HTML is then passed to the `display` function which renders it in the output cell. \n",
      "\n",
      "In other words, this function will display a series of colored squares in a Jupyter notebook or IPython console.\n"
     ]
    }
   ],
   "source": [
    "print(res.choices[0].message.content)"
   ]
  },
  {
   "cell_type": "code",
   "execution_count": null,
   "metadata": {},
   "outputs": [],
   "source": []
  }
 ],
 "metadata": {
  "kernelspec": {
   "display_name": ".venv",
   "language": "python",
   "name": "python3"
  },
  "language_info": {
   "codemirror_mode": {
    "name": "ipython",
    "version": 3
   },
   "file_extension": ".py",
   "mimetype": "text/x-python",
   "name": "python",
   "nbconvert_exporter": "python",
   "pygments_lexer": "ipython3",
   "version": "3.10.10"
  },
  "orig_nbformat": 4
 },
 "nbformat": 4,
 "nbformat_minor": 2
}
